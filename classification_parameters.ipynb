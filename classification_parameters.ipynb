import matplotlib
import itertools 
import matplotlib.cm as cm
import matplotlib.pyplot as plt
from matplotlib.colors import ListedColormap
from sklearn.model_selection import train_test_split


#CLASSIFICATION      
def create_colour_maps():
    cmap_light = ListedColormap(['#FFAAAA', '#AAFFAA'])
    cmap_bold = ListedColormap(['#FF0000', '#00FF00']) 


def plot_confusion_matrix(cm, classes, normalize=True, title='Confusion matrix', cmap=plt.cm.Blues):
    "    This function prints and plots the confusion matrix.\n",
    "    Normalization can be applied by setting `normalize=True`.\n",
    
    
    #Computing confusion matrix 
    if normalize:
       cm = cm.astype('float') / cm.sum(axis=1)[:, np.newaxis]
       print("Normalized confusion matrix")
    else:
       print('Confusion matrix, without normalization')
    print("cm =", self.cm)
    
    plt.imshow(cm, interpolation='nearest', cmap=cmap),
    plt.title(title, fontsize=12)
    plt.colorbar()
          
    tick_marks = np.arange(len(classes))
    plt.xticks(tick_marks, classes, rotation=45)
    plt.yticks(tick_marks, classes)
    fmt = '.2f' if normalize else 'd'
          
    for i, j in itertools.product(range(2), range(2)):
        plt.text(j, i, format(self.cm[i, j], fmt),
              horizontalalignment="center",
              color="white")
    plt.tight_layout()
    plt.ylabel('True label', fontsize=12)
    plt.xlabel('Predicted label', fontsize=12)
    #plt.show()

    for i in range(number_of_experiment):
        path = type_classifier+"_"+"Experiments"
        image_directory = type_classifier+"_"+"Images" +"-" +"SNR_"+str(SNR)+"_"  +"RFI_" +str(SNR_high)
        image_folder = os.path.join(path,image_directory)

        if not os.path.isdir("./"+image_folder):
           os.system("mkdir "+image_folder) 
    i=1
    while os.path.exists("./"+image_folder+"/" +type_classifier +f" CM_Image {i} - SNR= " +str(SNR) +f", RFI=" +str(SNR_high)+".png"):
        i+=1

    plt.savefig("./"+image_folder+"/" +type_classifier +f" CM_Image {i} - SNR= " +str(SNR) +f", RFI=" +str(SNR_high)+".png",bbox_inches='tight')
    plt.clf() 



'''
Setting the labels and splitting data into training and testing set
'''       
def classification_parameters():
    y = M.flatten()
    c = np.array(["r","g"])
    h = 0.02   
    X = np.zeros((len(y),2),dtype=float)       
    X[:,0]=np.abs(D_tot).flatten()
    X[:,1]=np.angle(D_tot).flatten()
    X_train, X_test, y_train, y_test = train_test_split(X, y, test_size=0.50, stratify=y)
          


create_colour_maps()
classification_parameters()
